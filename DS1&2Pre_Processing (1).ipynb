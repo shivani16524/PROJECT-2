{
  "cells": [
    {
      "cell_type": "code",
      "execution_count": null,
      "metadata": {
        "id": "gGFbE4GPeFQ5"
      },
      "outputs": [],
      "source": []
    },
    {
      "cell_type": "markdown",
      "metadata": {},
      "source": [
        "importing libraries"
      ]
    },
    {
      "cell_type": "markdown",
      "metadata": {
        "id": "RyYF0RiVjvA8"
      },
      "source": [
        "IMPORTING THE LIBRARIES"
      ]
    },
    {
      "cell_type": "code",
      "execution_count": null,
      "metadata": {
        "id": "YqlxrFX7j3oB"
      },
      "outputs": [],
      "source": [
        "import numpy as np\n",
        "import matplotlib.pyplot as plt\n",
        "import pandas as pd"
      ]
    },
    {
      "cell_type": "markdown",
      "metadata": {
        "id": "6CsjbYemkTqu"
      },
      "source": [
        "IMPORTING THE DATASET1"
      ]
    },
    {
      "cell_type": "code",
      "execution_count": null,
      "metadata": {
        "id": "wgyAMtB5kZFm"
      },
      "outputs": [],
      "source": [
        "ds = pd.read_csv('data_1.csv')\n",
        "\n"
      ]
    },
    {
      "cell_type": "markdown",
      "metadata": {
        "id": "Flba_1h5k1tV"
      },
      "source": [
        "Handling Missing values- WE DON'T HAVE MISSING VALUES IN DATASET1"
      ]
    },
    {
      "cell_type": "markdown",
      "metadata": {
        "id": "eOggky7slLII"
      },
      "source": [
        "Dropping year and month as dates and days are already given and not dropping season and hour as season has unique values in different datasets as given in document and hour can be counted as peak hours for later preprocessing."
      ]
    },
    {
      "cell_type": "code",
      "execution_count": null,
      "metadata": {
        "colab": {
          "base_uri": "https://localhost:8080/"
        },
        "id": "9dBXnAMOlv6z",
        "outputId": "76687f10-90cf-4ee9-83bf-c9f8f3ebb024"
      },
      "outputs": [
        {
          "name": "stdout",
          "output_type": "stream",
          "text": [
            "     instant      dteday  season  hr  holiday  weekday  weathersit  temp\n",
            "0          1  01-01-2011       1   0    False        6           1  0.24\n",
            "1          2  01-01-2011       1   1    False        6           1  0.22\n",
            "2          3  01-01-2011       1   2    False        6           1  0.22\n",
            "3          4  01-01-2011       1   3    False        6           1  0.24\n",
            "4          5  01-01-2011       1   4    False        6           1  0.24\n",
            "..       ...         ...     ...  ..      ...      ...         ...   ...\n",
            "605      606  28-01-2011       1  11    False        5           3  0.18\n",
            "606      607  28-01-2011       1  12    False        5           3  0.18\n",
            "607      608  28-01-2011       1  13    False        5           3  0.18\n",
            "608      609  28-01-2011       1  14    False        5           3  0.22\n",
            "609      610  28-01-2011       1  15    False        5           2  0.20\n",
            "\n",
            "[610 rows x 8 columns]\n"
          ]
        }
      ],
      "source": [
        "ds1 = ds.drop(['yr','mnth'],axis=1)\n",
        "print(ds1)"
      ]
    },
    {
      "cell_type": "markdown",
      "metadata": {
        "id": "RQh1JYQ7nniU"
      },
      "source": [
        "Dropping duplicate data"
      ]
    },
    {
      "cell_type": "code",
      "execution_count": null,
      "metadata": {
        "colab": {
          "base_uri": "https://localhost:8080/"
        },
        "id": "z4QlbIhtnrik",
        "outputId": "800a1517-7dfb-4e31-844c-85e6d3025535"
      },
      "outputs": [
        {
          "name": "stdout",
          "output_type": "stream",
          "text": [
            "     instant      dteday  season  yr  mnth  hr  holiday  weekday  weathersit  \\\n",
            "0          1  01-01-2011       1   0     1   0    False        6           1   \n",
            "1          2  01-01-2011       1   0     1   1    False        6           1   \n",
            "2          3  01-01-2011       1   0     1   2    False        6           1   \n",
            "3          4  01-01-2011       1   0     1   3    False        6           1   \n",
            "4          5  01-01-2011       1   0     1   4    False        6           1   \n",
            "..       ...         ...     ...  ..   ...  ..      ...      ...         ...   \n",
            "605      606  28-01-2011       1   0     1  11    False        5           3   \n",
            "606      607  28-01-2011       1   0     1  12    False        5           3   \n",
            "607      608  28-01-2011       1   0     1  13    False        5           3   \n",
            "608      609  28-01-2011       1   0     1  14    False        5           3   \n",
            "609      610  28-01-2011       1   0     1  15    False        5           2   \n",
            "\n",
            "     temp  \n",
            "0    0.24  \n",
            "1    0.22  \n",
            "2    0.22  \n",
            "3    0.24  \n",
            "4    0.24  \n",
            "..    ...  \n",
            "605  0.18  \n",
            "606  0.18  \n",
            "607  0.18  \n",
            "608  0.22  \n",
            "609  0.20  \n",
            "\n",
            "[610 rows x 10 columns]\n"
          ]
        }
      ],
      "source": [
        "ds = ds.drop_duplicates()\n",
        "print(ds)\n"
      ]
    },
    {
      "cell_type": "markdown",
      "metadata": {
        "id": "w9usgrNBol0E"
      },
      "source": [
        "DROPPING NULL VALUES"
      ]
    },
    {
      "cell_type": "code",
      "execution_count": null,
      "metadata": {
        "colab": {
          "base_uri": "https://localhost:8080/"
        },
        "id": "JeFJnGlWopAS",
        "outputId": "4124d389-d13c-4fd0-b610-00d9cac45fa5"
      },
      "outputs": [
        {
          "name": "stdout",
          "output_type": "stream",
          "text": [
            "     instant      dteday  season  yr  mnth  hr  holiday  weekday  weathersit  \\\n",
            "0          1  01-01-2011       1   0     1   0    False        6           1   \n",
            "1          2  01-01-2011       1   0     1   1    False        6           1   \n",
            "2          3  01-01-2011       1   0     1   2    False        6           1   \n",
            "3          4  01-01-2011       1   0     1   3    False        6           1   \n",
            "4          5  01-01-2011       1   0     1   4    False        6           1   \n",
            "..       ...         ...     ...  ..   ...  ..      ...      ...         ...   \n",
            "605      606  28-01-2011       1   0     1  11    False        5           3   \n",
            "606      607  28-01-2011       1   0     1  12    False        5           3   \n",
            "607      608  28-01-2011       1   0     1  13    False        5           3   \n",
            "608      609  28-01-2011       1   0     1  14    False        5           3   \n",
            "609      610  28-01-2011       1   0     1  15    False        5           2   \n",
            "\n",
            "     temp  \n",
            "0    0.24  \n",
            "1    0.22  \n",
            "2    0.22  \n",
            "3    0.24  \n",
            "4    0.24  \n",
            "..    ...  \n",
            "605  0.18  \n",
            "606  0.18  \n",
            "607  0.18  \n",
            "608  0.22  \n",
            "609  0.20  \n",
            "\n",
            "[610 rows x 10 columns]\n"
          ]
        }
      ],
      "source": [
        "ds.dropna(inplace=True)\n",
        "print(ds)\n"
      ]
    },
    {
      "cell_type": "markdown",
      "metadata": {
        "id": "F0ORkP5Eoy_3"
      },
      "source": [
        "IMPORTING LIBRARIES FOR DATA VISUALIZATION EDA"
      ]
    },
    {
      "cell_type": "code",
      "execution_count": null,
      "metadata": {
        "id": "Gc4HhxK0p3ho"
      },
      "outputs": [],
      "source": [
        "import seaborn as sns\n"
      ]
    },
    {
      "cell_type": "code",
      "execution_count": null,
      "metadata": {
        "colab": {
          "base_uri": "https://localhost:8080/",
          "height": 313
        },
        "id": "PjnjzDQHqt_g",
        "outputId": "ddc52d06-13a3-4cb7-d278-b2034749f09a"
      },
      "outputs": [
        {
          "data": {
            "application/vnd.google.colaboratory.intrinsic+json": {
              "summary": "{\n  \"name\": \"ds\",\n  \"rows\": 610,\n  \"fields\": [\n    {\n      \"column\": \"instant\",\n      \"properties\": {\n        \"dtype\": \"number\",\n        \"std\": 176,\n        \"min\": 1,\n        \"max\": 610,\n        \"num_unique_values\": 610,\n        \"samples\": [\n          82,\n          219,\n          56\n        ],\n        \"semantic_type\": \"\",\n        \"description\": \"\"\n      }\n    },\n    {\n      \"column\": \"dteday\",\n      \"properties\": {\n        \"dtype\": \"category\",\n        \"num_unique_values\": 28,\n        \"samples\": [\n          \"10-01-2011\",\n          \"26-01-2011\",\n          \"09-01-2011\"\n        ],\n        \"semantic_type\": \"\",\n        \"description\": \"\"\n      }\n    },\n    {\n      \"column\": \"season\",\n      \"properties\": {\n        \"dtype\": \"number\",\n        \"std\": 0,\n        \"min\": 1,\n        \"max\": 1,\n        \"num_unique_values\": 1,\n        \"samples\": [\n          1\n        ],\n        \"semantic_type\": \"\",\n        \"description\": \"\"\n      }\n    },\n    {\n      \"column\": \"yr\",\n      \"properties\": {\n        \"dtype\": \"number\",\n        \"std\": 0,\n        \"min\": 0,\n        \"max\": 0,\n        \"num_unique_values\": 1,\n        \"samples\": [\n          0\n        ],\n        \"semantic_type\": \"\",\n        \"description\": \"\"\n      }\n    },\n    {\n      \"column\": \"mnth\",\n      \"properties\": {\n        \"dtype\": \"number\",\n        \"std\": 0,\n        \"min\": 1,\n        \"max\": 1,\n        \"num_unique_values\": 1,\n        \"samples\": [\n          1\n        ],\n        \"semantic_type\": \"\",\n        \"description\": \"\"\n      }\n    },\n    {\n      \"column\": \"hr\",\n      \"properties\": {\n        \"dtype\": \"number\",\n        \"std\": 6,\n        \"min\": 0,\n        \"max\": 23,\n        \"num_unique_values\": 24,\n        \"samples\": [\n          8\n        ],\n        \"semantic_type\": \"\",\n        \"description\": \"\"\n      }\n    },\n    {\n      \"column\": \"holiday\",\n      \"properties\": {\n        \"dtype\": \"boolean\",\n        \"num_unique_values\": 2,\n        \"samples\": [\n          true\n        ],\n        \"semantic_type\": \"\",\n        \"description\": \"\"\n      }\n    },\n    {\n      \"column\": \"weekday\",\n      \"properties\": {\n        \"dtype\": \"number\",\n        \"std\": 2,\n        \"min\": 0,\n        \"max\": 6,\n        \"num_unique_values\": 7,\n        \"samples\": [\n          6\n        ],\n        \"semantic_type\": \"\",\n        \"description\": \"\"\n      }\n    },\n    {\n      \"column\": \"weathersit\",\n      \"properties\": {\n        \"dtype\": \"number\",\n        \"std\": 0,\n        \"min\": 1,\n        \"max\": 4,\n        \"num_unique_values\": 4,\n        \"samples\": [\n          2\n        ],\n        \"semantic_type\": \"\",\n        \"description\": \"\"\n      }\n    },\n    {\n      \"column\": \"temp\",\n      \"properties\": {\n        \"dtype\": \"number\",\n        \"std\": 0.08130384503268402,\n        \"min\": 0.02,\n        \"max\": 0.46,\n        \"num_unique_values\": 23,\n        \"samples\": [\n          0.18\n        ],\n        \"semantic_type\": \"\",\n        \"description\": \"\"\n      }\n    }\n  ]\n}",
              "type": "dataframe",
              "variable_name": "ds"
            },
            "text/html": [
              "\n",
              "  <div id=\"df-b60626ce-5b9f-40ab-a2b9-4be4d75e535a\" class=\"colab-df-container\">\n",
              "    <div>\n",
              "<style scoped>\n",
              "    .dataframe tbody tr th:only-of-type {\n",
              "        vertical-align: middle;\n",
              "    }\n",
              "\n",
              "    .dataframe tbody tr th {\n",
              "        vertical-align: top;\n",
              "    }\n",
              "\n",
              "    .dataframe thead th {\n",
              "        text-align: right;\n",
              "    }\n",
              "</style>\n",
              "<table border=\"1\" class=\"dataframe\">\n",
              "  <thead>\n",
              "    <tr style=\"text-align: right;\">\n",
              "      <th></th>\n",
              "      <th>instant</th>\n",
              "      <th>dteday</th>\n",
              "      <th>season</th>\n",
              "      <th>yr</th>\n",
              "      <th>mnth</th>\n",
              "      <th>hr</th>\n",
              "      <th>holiday</th>\n",
              "      <th>weekday</th>\n",
              "      <th>weathersit</th>\n",
              "      <th>temp</th>\n",
              "    </tr>\n",
              "  </thead>\n",
              "  <tbody>\n",
              "    <tr>\n",
              "      <th>0</th>\n",
              "      <td>1</td>\n",
              "      <td>01-01-2011</td>\n",
              "      <td>1</td>\n",
              "      <td>0</td>\n",
              "      <td>1</td>\n",
              "      <td>0</td>\n",
              "      <td>False</td>\n",
              "      <td>6</td>\n",
              "      <td>1</td>\n",
              "      <td>0.24</td>\n",
              "    </tr>\n",
              "    <tr>\n",
              "      <th>1</th>\n",
              "      <td>2</td>\n",
              "      <td>01-01-2011</td>\n",
              "      <td>1</td>\n",
              "      <td>0</td>\n",
              "      <td>1</td>\n",
              "      <td>1</td>\n",
              "      <td>False</td>\n",
              "      <td>6</td>\n",
              "      <td>1</td>\n",
              "      <td>0.22</td>\n",
              "    </tr>\n",
              "    <tr>\n",
              "      <th>2</th>\n",
              "      <td>3</td>\n",
              "      <td>01-01-2011</td>\n",
              "      <td>1</td>\n",
              "      <td>0</td>\n",
              "      <td>1</td>\n",
              "      <td>2</td>\n",
              "      <td>False</td>\n",
              "      <td>6</td>\n",
              "      <td>1</td>\n",
              "      <td>0.22</td>\n",
              "    </tr>\n",
              "    <tr>\n",
              "      <th>3</th>\n",
              "      <td>4</td>\n",
              "      <td>01-01-2011</td>\n",
              "      <td>1</td>\n",
              "      <td>0</td>\n",
              "      <td>1</td>\n",
              "      <td>3</td>\n",
              "      <td>False</td>\n",
              "      <td>6</td>\n",
              "      <td>1</td>\n",
              "      <td>0.24</td>\n",
              "    </tr>\n",
              "    <tr>\n",
              "      <th>4</th>\n",
              "      <td>5</td>\n",
              "      <td>01-01-2011</td>\n",
              "      <td>1</td>\n",
              "      <td>0</td>\n",
              "      <td>1</td>\n",
              "      <td>4</td>\n",
              "      <td>False</td>\n",
              "      <td>6</td>\n",
              "      <td>1</td>\n",
              "      <td>0.24</td>\n",
              "    </tr>\n",
              "  </tbody>\n",
              "</table>\n",
              "</div>\n",
              "    <div class=\"colab-df-buttons\">\n",
              "\n",
              "  <div class=\"colab-df-container\">\n",
              "    <button class=\"colab-df-convert\" onclick=\"convertToInteractive('df-b60626ce-5b9f-40ab-a2b9-4be4d75e535a')\"\n",
              "            title=\"Convert this dataframe to an interactive table.\"\n",
              "            style=\"display:none;\">\n",
              "\n",
              "  <svg xmlns=\"http://www.w3.org/2000/svg\" height=\"24px\" viewBox=\"0 -960 960 960\">\n",
              "    <path d=\"M120-120v-720h720v720H120Zm60-500h600v-160H180v160Zm220 220h160v-160H400v160Zm0 220h160v-160H400v160ZM180-400h160v-160H180v160Zm440 0h160v-160H620v160ZM180-180h160v-160H180v160Zm440 0h160v-160H620v160Z\"/>\n",
              "  </svg>\n",
              "    </button>\n",
              "\n",
              "  <style>\n",
              "    .colab-df-container {\n",
              "      display:flex;\n",
              "      gap: 12px;\n",
              "    }\n",
              "\n",
              "    .colab-df-convert {\n",
              "      background-color: #E8F0FE;\n",
              "      border: none;\n",
              "      border-radius: 50%;\n",
              "      cursor: pointer;\n",
              "      display: none;\n",
              "      fill: #1967D2;\n",
              "      height: 32px;\n",
              "      padding: 0 0 0 0;\n",
              "      width: 32px;\n",
              "    }\n",
              "\n",
              "    .colab-df-convert:hover {\n",
              "      background-color: #E2EBFA;\n",
              "      box-shadow: 0px 1px 2px rgba(60, 64, 67, 0.3), 0px 1px 3px 1px rgba(60, 64, 67, 0.15);\n",
              "      fill: #174EA6;\n",
              "    }\n",
              "\n",
              "    .colab-df-buttons div {\n",
              "      margin-bottom: 4px;\n",
              "    }\n",
              "\n",
              "    [theme=dark] .colab-df-convert {\n",
              "      background-color: #3B4455;\n",
              "      fill: #D2E3FC;\n",
              "    }\n",
              "\n",
              "    [theme=dark] .colab-df-convert:hover {\n",
              "      background-color: #434B5C;\n",
              "      box-shadow: 0px 1px 3px 1px rgba(0, 0, 0, 0.15);\n",
              "      filter: drop-shadow(0px 1px 2px rgba(0, 0, 0, 0.3));\n",
              "      fill: #FFFFFF;\n",
              "    }\n",
              "  </style>\n",
              "\n",
              "    <script>\n",
              "      const buttonEl =\n",
              "        document.querySelector('#df-b60626ce-5b9f-40ab-a2b9-4be4d75e535a button.colab-df-convert');\n",
              "      buttonEl.style.display =\n",
              "        google.colab.kernel.accessAllowed ? 'block' : 'none';\n",
              "\n",
              "      async function convertToInteractive(key) {\n",
              "        const element = document.querySelector('#df-b60626ce-5b9f-40ab-a2b9-4be4d75e535a');\n",
              "        const dataTable =\n",
              "          await google.colab.kernel.invokeFunction('convertToInteractive',\n",
              "                                                    [key], {});\n",
              "        if (!dataTable) return;\n",
              "\n",
              "        const docLinkHtml = 'Like what you see? Visit the ' +\n",
              "          '<a target=\"_blank\" href=https://colab.research.google.com/notebooks/data_table.ipynb>data table notebook</a>'\n",
              "          + ' to learn more about interactive tables.';\n",
              "        element.innerHTML = '';\n",
              "        dataTable['output_type'] = 'display_data';\n",
              "        await google.colab.output.renderOutput(dataTable, element);\n",
              "        const docLink = document.createElement('div');\n",
              "        docLink.innerHTML = docLinkHtml;\n",
              "        element.appendChild(docLink);\n",
              "      }\n",
              "    </script>\n",
              "  </div>\n",
              "\n",
              "\n",
              "    <div id=\"df-371a62e7-2592-4b17-aa2c-53716d478fc8\">\n",
              "      <button class=\"colab-df-quickchart\" onclick=\"quickchart('df-371a62e7-2592-4b17-aa2c-53716d478fc8')\"\n",
              "                title=\"Suggest charts\"\n",
              "                style=\"display:none;\">\n",
              "\n",
              "<svg xmlns=\"http://www.w3.org/2000/svg\" height=\"24px\"viewBox=\"0 0 24 24\"\n",
              "     width=\"24px\">\n",
              "    <g>\n",
              "        <path d=\"M19 3H5c-1.1 0-2 .9-2 2v14c0 1.1.9 2 2 2h14c1.1 0 2-.9 2-2V5c0-1.1-.9-2-2-2zM9 17H7v-7h2v7zm4 0h-2V7h2v10zm4 0h-2v-4h2v4z\"/>\n",
              "    </g>\n",
              "</svg>\n",
              "      </button>\n",
              "\n",
              "<style>\n",
              "  .colab-df-quickchart {\n",
              "      --bg-color: #E8F0FE;\n",
              "      --fill-color: #1967D2;\n",
              "      --hover-bg-color: #E2EBFA;\n",
              "      --hover-fill-color: #174EA6;\n",
              "      --disabled-fill-color: #AAA;\n",
              "      --disabled-bg-color: #DDD;\n",
              "  }\n",
              "\n",
              "  [theme=dark] .colab-df-quickchart {\n",
              "      --bg-color: #3B4455;\n",
              "      --fill-color: #D2E3FC;\n",
              "      --hover-bg-color: #434B5C;\n",
              "      --hover-fill-color: #FFFFFF;\n",
              "      --disabled-bg-color: #3B4455;\n",
              "      --disabled-fill-color: #666;\n",
              "  }\n",
              "\n",
              "  .colab-df-quickchart {\n",
              "    background-color: var(--bg-color);\n",
              "    border: none;\n",
              "    border-radius: 50%;\n",
              "    cursor: pointer;\n",
              "    display: none;\n",
              "    fill: var(--fill-color);\n",
              "    height: 32px;\n",
              "    padding: 0;\n",
              "    width: 32px;\n",
              "  }\n",
              "\n",
              "  .colab-df-quickchart:hover {\n",
              "    background-color: var(--hover-bg-color);\n",
              "    box-shadow: 0 1px 2px rgba(60, 64, 67, 0.3), 0 1px 3px 1px rgba(60, 64, 67, 0.15);\n",
              "    fill: var(--button-hover-fill-color);\n",
              "  }\n",
              "\n",
              "  .colab-df-quickchart-complete:disabled,\n",
              "  .colab-df-quickchart-complete:disabled:hover {\n",
              "    background-color: var(--disabled-bg-color);\n",
              "    fill: var(--disabled-fill-color);\n",
              "    box-shadow: none;\n",
              "  }\n",
              "\n",
              "  .colab-df-spinner {\n",
              "    border: 2px solid var(--fill-color);\n",
              "    border-color: transparent;\n",
              "    border-bottom-color: var(--fill-color);\n",
              "    animation:\n",
              "      spin 1s steps(1) infinite;\n",
              "  }\n",
              "\n",
              "  @keyframes spin {\n",
              "    0% {\n",
              "      border-color: transparent;\n",
              "      border-bottom-color: var(--fill-color);\n",
              "      border-left-color: var(--fill-color);\n",
              "    }\n",
              "    20% {\n",
              "      border-color: transparent;\n",
              "      border-left-color: var(--fill-color);\n",
              "      border-top-color: var(--fill-color);\n",
              "    }\n",
              "    30% {\n",
              "      border-color: transparent;\n",
              "      border-left-color: var(--fill-color);\n",
              "      border-top-color: var(--fill-color);\n",
              "      border-right-color: var(--fill-color);\n",
              "    }\n",
              "    40% {\n",
              "      border-color: transparent;\n",
              "      border-right-color: var(--fill-color);\n",
              "      border-top-color: var(--fill-color);\n",
              "    }\n",
              "    60% {\n",
              "      border-color: transparent;\n",
              "      border-right-color: var(--fill-color);\n",
              "    }\n",
              "    80% {\n",
              "      border-color: transparent;\n",
              "      border-right-color: var(--fill-color);\n",
              "      border-bottom-color: var(--fill-color);\n",
              "    }\n",
              "    90% {\n",
              "      border-color: transparent;\n",
              "      border-bottom-color: var(--fill-color);\n",
              "    }\n",
              "  }\n",
              "</style>\n",
              "\n",
              "      <script>\n",
              "        async function quickchart(key) {\n",
              "          const quickchartButtonEl =\n",
              "            document.querySelector('#' + key + ' button');\n",
              "          quickchartButtonEl.disabled = true;  // To prevent multiple clicks.\n",
              "          quickchartButtonEl.classList.add('colab-df-spinner');\n",
              "          try {\n",
              "            const charts = await google.colab.kernel.invokeFunction(\n",
              "                'suggestCharts', [key], {});\n",
              "          } catch (error) {\n",
              "            console.error('Error during call to suggestCharts:', error);\n",
              "          }\n",
              "          quickchartButtonEl.classList.remove('colab-df-spinner');\n",
              "          quickchartButtonEl.classList.add('colab-df-quickchart-complete');\n",
              "        }\n",
              "        (() => {\n",
              "          let quickchartButtonEl =\n",
              "            document.querySelector('#df-371a62e7-2592-4b17-aa2c-53716d478fc8 button');\n",
              "          quickchartButtonEl.style.display =\n",
              "            google.colab.kernel.accessAllowed ? 'block' : 'none';\n",
              "        })();\n",
              "      </script>\n",
              "    </div>\n",
              "\n",
              "    </div>\n",
              "  </div>\n"
            ],
            "text/plain": [
              "   instant      dteday  season  yr  mnth  hr  holiday  weekday  weathersit  \\\n",
              "0        1  01-01-2011       1   0     1   0    False        6           1   \n",
              "1        2  01-01-2011       1   0     1   1    False        6           1   \n",
              "2        3  01-01-2011       1   0     1   2    False        6           1   \n",
              "3        4  01-01-2011       1   0     1   3    False        6           1   \n",
              "4        5  01-01-2011       1   0     1   4    False        6           1   \n",
              "\n",
              "   temp  \n",
              "0  0.24  \n",
              "1  0.22  \n",
              "2  0.22  \n",
              "3  0.24  \n",
              "4  0.24  "
            ]
          },
          "execution_count": 7,
          "metadata": {},
          "output_type": "execute_result"
        }
      ],
      "source": [
        "ds = pd.read_csv('data_1.csv')\n",
        "ds.head()\n"
      ]
    },
    {
      "cell_type": "markdown",
      "metadata": {
        "id": "mXwT-HSOrDCW"
      },
      "source": [
        "BAR CHART"
      ]
    },
    {
      "cell_type": "code",
      "execution_count": null,
      "metadata": {
        "colab": {
          "base_uri": "https://localhost:8080/",
          "height": 361
        },
        "id": "8zjLIjePrF2a",
        "outputId": "57ac7735-2158-4697-d6ce-1e0f65baa973"
      },
      "outputs": [
        {
          "data": {
            "image/png": "[encoded data removed]",
            "text/plain": [
              "<Figure size 1200x600 with 1 Axes>"
            ]
          },
          "metadata": {},
          "output_type": "display_data"
        }
      ],
      "source": [
        "plt.figure(figsize=(12,6))\n",
        "sns.barplot(x='instant',y='weekday',data=ds)\n",
        "plt.title('bar chart')\n",
        "plt.xlabel('instant')\n",
        "plt.ylabel('weekday')\n",
        "plt.show()"
      ]
    },
    {
      "cell_type": "markdown",
      "metadata": {
        "id": "7SyUd_IAulQH"
      },
      "source": [
        "IMPORTING DATASET2"
      ]
    },
    {
      "cell_type": "code",
      "execution_count": null,
      "metadata": {
        "id": "E1S5AWq4uuPW"
      },
      "outputs": [],
      "source": [
        "df = pd.read_csv('data_2.csv')"
      ]
    },
    {
      "cell_type": "markdown",
      "metadata": {
        "id": "nwiDdOiYvBGa"
      },
      "source": [
        "Pre-processing on Dataset2"
      ]
    },
    {
      "cell_type": "markdown",
      "metadata": {
        "id": "T3TPugVnvWnN"
      },
      "source": [
        "Handling missing values"
      ]
    },
    {
      "cell_type": "code",
      "execution_count": null,
      "metadata": {
        "colab": {
          "base_uri": "https://localhost:8080/"
        },
        "id": "KUKv0ypdvZua",
        "outputId": "dd1832de-9b38-4d0c-ce8b-c1e4d59c0877"
      },
      "outputs": [
        {
          "name": "stdout",
          "output_type": "stream",
          "text": [
            "     Unnamed: 0  instant   atemp   hum  windspeed  casual  registered  cnt\n",
            "0             0        1  0.2879  0.81     0.0000       3          13   16\n",
            "1             1        2  0.2727  0.80     0.0000       8          32   40\n",
            "2             2        3  0.2727  0.80     0.0000       5          27   32\n",
            "3             3        4  0.2879  0.75     0.0000       3          10   13\n",
            "4             4        5  0.2879  0.75     0.0000       0           1    1\n",
            "..          ...      ...     ...   ...        ...     ...         ...  ...\n",
            "605         605      606  0.2121  0.93     0.1045       0          30   30\n",
            "606         606      607  0.2121  0.93     0.1045       1          28   29\n",
            "607         607      608  0.2121  0.93     0.1045       0          31   31\n",
            "608         608      609  0.2727  0.80     0.0000       2          36   38\n",
            "609         609      610  0.2576  0.86     0.0000       1          40   41\n",
            "\n",
            "[599 rows x 8 columns]\n"
          ]
        }
      ],
      "source": [
        "df.dropna(inplace=True)\n",
        "print(df)"
      ]
    },
    {
      "cell_type": "code",
      "execution_count": null,
      "metadata": {
        "colab": {
          "base_uri": "https://localhost:8080/"
        },
        "id": "1BesqFOSyGvA",
        "outputId": "c21034bb-a804-46bd-f7c3-d7ec8f664e16"
      },
      "outputs": [
        {
          "name": "stdout",
          "output_type": "stream",
          "text": [
            "     Unnamed: 0  instant   atemp   hum  windspeed  casual  registered  cnt\n",
            "0             0        1  0.2879  0.81     0.0000       3          13   16\n",
            "1             1        2  0.2727  0.80     0.0000       8          32   40\n",
            "2             2        3  0.2727  0.80     0.0000       5          27   32\n",
            "3             3        4  0.2879  0.75     0.0000       3          10   13\n",
            "4             4        5  0.2879  0.75     0.0000       0           1    1\n",
            "..          ...      ...     ...   ...        ...     ...         ...  ...\n",
            "605         605      606  0.2121  0.93     0.1045       0          30   30\n",
            "606         606      607  0.2121  0.93     0.1045       1          28   29\n",
            "607         607      608  0.2121  0.93     0.1045       0          31   31\n",
            "608         608      609  0.2727  0.80     0.0000       2          36   38\n",
            "609         609      610  0.2576  0.86     0.0000       1          40   41\n",
            "\n",
            "[599 rows x 8 columns]\n"
          ]
        }
      ],
      "source": [
        "df.fillna(df.values.mean(),inplace=True)\n",
        "print(df)"
      ]
    },
    {
      "cell_type": "markdown",
      "metadata": {
        "id": "sy7EeKttzblh"
      },
      "source": [
        "DROPPING DUPLICATE DATA AND NULL VALUES"
      ]
    },
    {
      "cell_type": "code",
      "execution_count": null,
      "metadata": {
        "colab": {
          "base_uri": "https://localhost:8080/"
        },
        "id": "F0YnyswIzpRG",
        "outputId": "95662145-24bf-4c67-d3b3-d671985ba4c5"
      },
      "outputs": [
        {
          "name": "stdout",
          "output_type": "stream",
          "text": [
            "     Unnamed: 0  instant   atemp   hum  windspeed  casual  registered  cnt\n",
            "0             0        1  0.2879  0.81     0.0000       3          13   16\n",
            "1             1        2  0.2727  0.80     0.0000       8          32   40\n",
            "2             2        3  0.2727  0.80     0.0000       5          27   32\n",
            "3             3        4  0.2879  0.75     0.0000       3          10   13\n",
            "4             4        5  0.2879  0.75     0.0000       0           1    1\n",
            "..          ...      ...     ...   ...        ...     ...         ...  ...\n",
            "605         605      606  0.2121  0.93     0.1045       0          30   30\n",
            "606         606      607  0.2121  0.93     0.1045       1          28   29\n",
            "607         607      608  0.2121  0.93     0.1045       0          31   31\n",
            "608         608      609  0.2727  0.80     0.0000       2          36   38\n",
            "609         609      610  0.2576  0.86     0.0000       1          40   41\n",
            "\n",
            "[599 rows x 8 columns]\n",
            "     Unnamed: 0  instant   atemp   hum  windspeed  casual  registered  cnt\n",
            "0             0        1  0.2879  0.81     0.0000       3          13   16\n",
            "1             1        2  0.2727  0.80     0.0000       8          32   40\n",
            "2             2        3  0.2727  0.80     0.0000       5          27   32\n",
            "3             3        4  0.2879  0.75     0.0000       3          10   13\n",
            "4             4        5  0.2879  0.75     0.0000       0           1    1\n",
            "..          ...      ...     ...   ...        ...     ...         ...  ...\n",
            "605         605      606  0.2121  0.93     0.1045       0          30   30\n",
            "606         606      607  0.2121  0.93     0.1045       1          28   29\n",
            "607         607      608  0.2121  0.93     0.1045       0          31   31\n",
            "608         608      609  0.2727  0.80     0.0000       2          36   38\n",
            "609         609      610  0.2576  0.86     0.0000       1          40   41\n",
            "\n",
            "[599 rows x 8 columns]\n"
          ]
        }
      ],
      "source": [
        "df = df.drop_duplicates()\n",
        "print(df)\n",
        "df.dropna(inplace=True)\n",
        "print(df)\n",
        "\n"
      ]
    },
    {
      "cell_type": "markdown",
      "metadata": {
        "id": "cjGOF7ez0Oqv"
      },
      "source": [
        "BAR CHART"
      ]
    },
    {
      "cell_type": "code",
      "execution_count": null,
      "metadata": {
        "colab": {
          "base_uri": "https://localhost:8080/",
          "height": 355
        },
        "id": "V1mypAUV0QZL",
        "outputId": "4643b748-a1d7-46ce-c589-a2b79f1c12c9"
      },
      "outputs": [
        {
          "data": {
            "image/png": "[encoded data removed]",
            "text/plain": [
              "<Figure size 1200x600 with 1 Axes>"
            ]
          },
          "metadata": {},
          "output_type": "display_data"
        }
      ],
      "source": [
        "df = pd.read_csv('data_2.csv')\n",
        "df.head()\n",
        "plt.figure(figsize=(12,6))\n",
        "sns.barplot(x='instant',y='cnt',data=df)\n",
        "plt.title('bar chart')\n",
        "plt.xlabel('instant')\n",
        "plt.ylabel('cnt')\n",
        "plt.show()"
      ]
    },
    {
      "cell_type": "markdown",
      "metadata": {
        "id": "rCbO0Cim1PcX"
      },
      "source": [
        "MERGING DATASET1 AND DATASET2"
      ]
    },
    {
      "cell_type": "code",
      "execution_count": null,
      "metadata": {
        "id": "EC9JxeyP38GI"
      },
      "outputs": [],
      "source": [
        "import pandas as pd"
      ]
    },
    {
      "cell_type": "code",
      "execution_count": null,
      "metadata": {
        "id": "3ODdNL0o4F2m"
      },
      "outputs": [],
      "source": [
        "ds = pd.read_csv('data_1.csv')"
      ]
    },
    {
      "cell_type": "code",
      "execution_count": null,
      "metadata": {
        "id": "XTF09XI_37tr"
      },
      "outputs": [],
      "source": [
        "df = pd.read_csv('data_2.csv')"
      ]
    },
    {
      "cell_type": "code",
      "execution_count": null,
      "metadata": {
        "colab": {
          "base_uri": "https://localhost:8080/"
        },
        "id": "X5ZZOQkY1WQz",
        "outputId": "8f9c8205-5d84-4516-b390-14da7bcccd72"
      },
      "outputs": [
        {
          "name": "stdout",
          "output_type": "stream",
          "text": [
            "     instant      dteday  season  yr  mnth  hr  holiday  weekday  weathersit  \\\n",
            "0          1  01-01-2011       1   0     1   0    False        6           1   \n",
            "1          2  01-01-2011       1   0     1   1    False        6           1   \n",
            "2          3  01-01-2011       1   0     1   2    False        6           1   \n",
            "3          4  01-01-2011       1   0     1   3    False        6           1   \n",
            "4          5  01-01-2011       1   0     1   4    False        6           1   \n",
            "..       ...         ...     ...  ..   ...  ..      ...      ...         ...   \n",
            "605      606  28-01-2011       1   0     1  11    False        5           3   \n",
            "606      607  28-01-2011       1   0     1  12    False        5           3   \n",
            "607      608  28-01-2011       1   0     1  13    False        5           3   \n",
            "608      609  28-01-2011       1   0     1  14    False        5           3   \n",
            "609      610  28-01-2011       1   0     1  15    False        5           2   \n",
            "\n",
            "     temp  Unnamed: 0   atemp   hum  windspeed  casual  registered  cnt  \n",
            "0    0.24           0  0.2879  0.81     0.0000       3          13   16  \n",
            "1    0.22           1  0.2727  0.80     0.0000       8          32   40  \n",
            "2    0.22           2  0.2727  0.80     0.0000       5          27   32  \n",
            "3    0.24           3  0.2879  0.75     0.0000       3          10   13  \n",
            "4    0.24           4  0.2879  0.75     0.0000       0           1    1  \n",
            "..    ...         ...     ...   ...        ...     ...         ...  ...  \n",
            "605  0.18         605  0.2121  0.93     0.1045       0          30   30  \n",
            "606  0.18         606  0.2121  0.93     0.1045       1          28   29  \n",
            "607  0.18         607  0.2121  0.93     0.1045       0          31   31  \n",
            "608  0.22         608  0.2727  0.80     0.0000       2          36   38  \n",
            "609  0.20         609  0.2576  0.86     0.0000       1          40   41  \n",
            "\n",
            "[610 rows x 17 columns]\n"
          ]
        }
      ],
      "source": [
        "master_data = pd.merge(ds,df,on='instant',how = 'inner')\n",
        "print(master_data)"
      ]
    },
    {
      "cell_type": "markdown",
      "metadata": {
        "id": "UmqZXvn82pAn"
      },
      "source": [
        "dropping unnamed index"
      ]
    },
    {
      "cell_type": "code",
      "execution_count": null,
      "metadata": {
        "colab": {
          "base_uri": "https://localhost:8080/"
        },
        "id": "m47kJY0j4Sd3",
        "outputId": "7d40ff31-d547-4e4d-94e8-d561070fa483"
      },
      "outputs": [
        {
          "name": "stdout",
          "output_type": "stream",
          "text": [
            "     instant      dteday  season  yr  mnth  hr  holiday  weekday  weathersit  \\\n",
            "0          1  01-01-2011       1   0     1   0    False        6           1   \n",
            "1          2  01-01-2011       1   0     1   1    False        6           1   \n",
            "2          3  01-01-2011       1   0     1   2    False        6           1   \n",
            "3          4  01-01-2011       1   0     1   3    False        6           1   \n",
            "4          5  01-01-2011       1   0     1   4    False        6           1   \n",
            "..       ...         ...     ...  ..   ...  ..      ...      ...         ...   \n",
            "605      606  28-01-2011       1   0     1  11    False        5           3   \n",
            "606      607  28-01-2011       1   0     1  12    False        5           3   \n",
            "607      608  28-01-2011       1   0     1  13    False        5           3   \n",
            "608      609  28-01-2011       1   0     1  14    False        5           3   \n",
            "609      610  28-01-2011       1   0     1  15    False        5           2   \n",
            "\n",
            "     temp   atemp   hum  windspeed  casual  registered  cnt  \n",
            "0    0.24  0.2879  0.81     0.0000       3          13   16  \n",
            "1    0.22  0.2727  0.80     0.0000       8          32   40  \n",
            "2    0.22  0.2727  0.80     0.0000       5          27   32  \n",
            "3    0.24  0.2879  0.75     0.0000       3          10   13  \n",
            "4    0.24  0.2879  0.75     0.0000       0           1    1  \n",
            "..    ...     ...   ...        ...     ...         ...  ...  \n",
            "605  0.18  0.2121  0.93     0.1045       0          30   30  \n",
            "606  0.18  0.2121  0.93     0.1045       1          28   29  \n",
            "607  0.18  0.2121  0.93     0.1045       0          31   31  \n",
            "608  0.22  0.2727  0.80     0.0000       2          36   38  \n",
            "609  0.20  0.2576  0.86     0.0000       1          40   41  \n",
            "\n",
            "[610 rows x 16 columns]\n"
          ]
        }
      ],
      "source": [
        "ds2 = master_data.drop(['Unnamed: 0'], axis=1)\n",
        "print(ds2)"
      ]
    },
    {
      "cell_type": "markdown",
      "metadata": {
        "id": "NWTQb-0y5J9o"
      },
      "source": [
        "LOADING DATA INTO CSV FORMAT"
      ]
    },
    {
      "cell_type": "code",
      "execution_count": null,
      "metadata": {
        "id": "p53rtRGZ5YFO"
      },
      "outputs": [],
      "source": [
        "ds2 = pd.DataFrame(ds2)\n",
        "ds2.to_csv('master_data.csv')"
      ]
    }
  ],
  "metadata": {
    "colab": {
      "provenance": []
    },
    "kernelspec": {
      "display_name": "Python 3",
      "name": "python3"
    },
    "language_info": {
      "name": "python"
    }
  },
  "nbformat": 4,
  "nbformat_minor": 0
}
